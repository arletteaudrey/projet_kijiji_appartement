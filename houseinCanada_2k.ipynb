{
 "cells": [
  {
   "cell_type": "markdown",
   "id": "6fdbaf14",
   "metadata": {},
   "source": [
    "# Utilisation de beautifulSoup pour extraire des données sur internet (kijiji.ca)\n",
    "Site de location d'appartements au canada\n"
   ]
  },
  {
   "cell_type": "code",
   "execution_count": 3,
   "id": "ef2b8a81",
   "metadata": {},
   "outputs": [
    {
     "ename": "ModuleNotFoundError",
     "evalue": "No module named 'bs4'",
     "output_type": "error",
     "traceback": [
      "\u001b[1;31m---------------------------------------------------------------------------\u001b[0m",
      "\u001b[1;31mModuleNotFoundError\u001b[0m                       Traceback (most recent call last)",
      "Cell \u001b[1;32mIn[3], line 2\u001b[0m\n\u001b[0;32m      1\u001b[0m \u001b[39m#Importer BeautifulSoup\u001b[39;00m\n\u001b[1;32m----> 2\u001b[0m \u001b[39mfrom\u001b[39;00m \u001b[39mbs4\u001b[39;00m \u001b[39mimport\u001b[39;00m BeautifulSoup\n\u001b[0;32m      3\u001b[0m \u001b[39mimport\u001b[39;00m \u001b[39mrequests\u001b[39;00m\n\u001b[0;32m      4\u001b[0m \u001b[39mimport\u001b[39;00m \u001b[39mre\u001b[39;00m\n",
      "\u001b[1;31mModuleNotFoundError\u001b[0m: No module named 'bs4'"
     ]
    }
   ],
   "source": [
    "#Importer BeautifulSoup\n",
    "from bs4 import BeautifulSoup\n",
    "import requests\n",
    "import re\n",
    "import urllib.request\n",
    "import pandas as pd\n",
    "from pandas import DataFrame"
   ]
  },
  {
   "cell_type": "code",
   "execution_count": 5,
   "id": "6f6be92d",
   "metadata": {},
   "outputs": [],
   "source": [
    "#On copie la troisième page du site après avoir mis les filtres (On veut juste les 3 premières pages du site)\n",
    "num = 1\n",
    "\n",
    "base_url = 'https://www.kijiji.ca/b-apartments-condos/ontario/1+bathroom__1+half+bathrooms-1+bedroom+den__2+bedrooms-condo/page-' \n",
    "page_num = '1 '\n",
    "url_separator = '/c37l9004a120a27949001a29276001?ad=offering&price=__2000'\n",
    "\n",
    "#url en entier: url = 'https://www.kijiji.ca/b-apartments-condos/ontario/1+bathroom__1+half+bathrooms-1+bedroom+den__2+bedrooms-condo/page-1/c37l9004a120a27949001a29276001?ad=offering&price=__2000'"
   ]
  },
  {
   "cell_type": "code",
   "execution_count": 1,
   "id": "2abfafe1",
   "metadata": {},
   "outputs": [
    {
     "ename": "NameError",
     "evalue": "name 'base_url' is not defined",
     "output_type": "error",
     "traceback": [
      "\u001b[1;31m---------------------------------------------------------------------------\u001b[0m",
      "\u001b[1;31mNameError\u001b[0m                                 Traceback (most recent call last)",
      "Cell \u001b[1;32mIn[1], line 4\u001b[0m\n\u001b[0;32m      1\u001b[0m \u001b[39m#on utilise maintenant l'url, response (qui fait appel à l'url) et le contenu d'un objet soup qu'on déclare qui sont les 3 principaux \u001b[39;00m\n\u001b[0;32m      2\u001b[0m \u001b[39m#composants de beautifulSoup et requests qui permettent de récupérer et stocker les uniques valeurs contenues dans l'url du site web de kijiji\u001b[39;00m\n\u001b[1;32m----> 4\u001b[0m url \u001b[39m=\u001b[39m base_url \u001b[39m+\u001b[39m page_num \u001b[39m+\u001b[39m url_separator\n\u001b[0;32m      5\u001b[0m response \u001b[39m=\u001b[39m requests\u001b[39m.\u001b[39mget(url)\n\u001b[0;32m      6\u001b[0m soup \u001b[39m=\u001b[39m BeautifulSoup(response\u001b[39m.\u001b[39mcontent, \u001b[39m'\u001b[39m\u001b[39mhtml.parser\u001b[39m\u001b[39m'\u001b[39m)\n",
      "\u001b[1;31mNameError\u001b[0m: name 'base_url' is not defined"
     ]
    }
   ],
   "source": [
    "#on utilise maintenant l'url, response (qui fait appel à l'url) et le contenu d'un objet soup qu'on déclare qui sont les 3 principaux \n",
    "#composants de beautifulSoup et requests qui permettent de récupérer et stocker les uniques valeurs contenues dans l'url du site web de kijiji\n",
    "\n",
    "url = base_url + page_num + url_separator\n",
    "response = requests.get(url)\n",
    "soup = BeautifulSoup(response.content, 'html.parser')\n",
    "print(response)"
   ]
  },
  {
   "cell_type": "code",
   "execution_count": 8,
   "id": "2a224930",
   "metadata": {},
   "outputs": [],
   "source": [
    "#Accéder aux informations du site de manière détaillée en utilisant la loupe for\n",
    "for post in range (4):\n",
    "    base_url + page_num + url_separator\n",
    "    houses = soup.find_all('div', {'class': 'info'})  #On cherche les tags div, class et info car ce sont eux qui ont été utilisés pour stocker \n",
    "                                                #les informations concernant les maisons dans chaque compartiment de la page html (on le remarque en inspectant la page) \n",
    "    housedatas = []  #Ici on créér un array (tableau)\n",
    "    housedatas_Format = []"
   ]
  },
  {
   "cell_type": "code",
   "execution_count": 26,
   "id": "ccf230c3",
   "metadata": {},
   "outputs": [
    {
     "name": "stdout",
     "output_type": "stream",
     "text": [
      "[['1 Bedroom+DEN- All inclusive- January Half Price!!', '1,142.00', '', 'Ottawa 28/12/2022', '1 Bedroom+DEN- All inclusive- January Half Price!!'], ['1 Bedroom+DEN- All inclusive- January Half Price!!', '1,142.00', '', 'Ottawa 28/12/2022', '1 Bedroom+DEN- All inclusive- January Half Price!!'], ['1 Bedroom Condo W/ Den in Downtown Toronto', '2,000.00', '', 'Toronto < 5 hours ago', '1 Bedroom Condo W/ Den in Downtown Toronto'], ['Condo Apartment For Rent In Beamsville Utopia', '1,800.00', '', 'Lincoln < 8 hours ago', 'Condo Apartment For Rent In Beamsville Utopia'], ['Condo Apartment For Rent In Beamsville Utopia', '1,800.00', '', 'Lincoln < 8 hours ago', 'Condo Apartment For Rent In Beamsville Utopia'], ['695 Richmond - 2 Bedrooms For Rent', '1,575.00', '', 'London < 11 hours ago', '695 Richmond - 2 Bedrooms For Rent'], ['1BR + den condo Kitchener (brand new)', '1,850.00', '', 'Kitchener < 11 hours ago', '1BR + den condo Kitchener (brand new)'], ['Lakefront condo for rent', '1,600.00', '', 'Kenora < 12 hours ago', 'Lakefront condo for rent'], ['Renovated one bedroom plus den condo beside Experimental Farm', '1,700.00', '', 'Ottawa < 13 hours ago', 'Renovated one bedroom plus den condo beside Experimental Farm'], ['Two Bed Two washroom brand new condo for lease( Windsor)', '2,000.00', '', 'Windsor < 18 hours ago', 'Two Bed Two washroom brand new condo for lease( Windsor)'], ['2 Bedroom Condo for Rental ~ Plateau Gatineau', '1,655.00', '', 'Gatineau 31/12/2022', '2 Bedroom Condo for Rental ~ Plateau Gatineau'], ['17 Eldon Hall 2Bed Apt', '1,850.00', '', 'Kingston 31/12/2022', '17 Eldon Hall 2Bed Apt'], ['2 BR Condo with Panoramic view of Ottawa River', '1,499.00', '', 'Gatineau 31/12/2022', '2 BR Condo with Panoramic view of Ottawa River'], ['1 bedroom +den fully renovated condo for with a walkout patio', '1,550.00', '', 'St. Catharines 31/12/2022', '1 bedroom +den fully renovated condo for with a walkout patio'], ['2 Bed condo for rent . Amazing location !! 705 791 9877', '1,875.00', '', 'Barrie 31/12/2022', '2 Bed condo for rent . Amazing location !! 705 791 9877'], ['Brantford - 1bed + den, 1 bath BRAND NEW!', '1,850.00', '', 'Brantford 31/12/2022', 'Brantford - 1bed + den, 1 bath BRAND NEW!'], ['2Br Condo For Rent', '1,900.00', '', 'Hamilton 30/12/2022', '2Br Condo For Rent'], ['1 bdr sublet(Feb-Apr) or Lease assignment +1 month free', '1,780.00', '', 'Gatineau 30/12/2022', '1 bdr sublet(Feb-Apr) or Lease assignment +1 month free'], ['Penthouse 1 Bedroom Condo for rent in South End Guelph', '2,000.00', '', 'Guelph 30/12/2022', 'Penthouse 1 Bedroom Condo for rent in South End Guelph'], ['SMART Never lived in One bedroom + Den Down town Kitchener', '1,870.00', '', 'Kitchener / Waterloo 30/12/2022', 'SMART Never lived in One bedroom + Den Down town Kitchener'], ['For Rent: 2 bed 1 bath Condo located in Findlay Creek', '2,000.00', '', 'Ottawa 30/12/2022', 'For Rent: 2 bed 1 bath Condo located in Findlay Creek'], ['UP TOWN WATERLOO', '1,800.00', '', 'Kitchener / Waterloo 30/12/2022', 'UP TOWN WATERLOO'], ['1 BED+DEN | 1 BATH - CONDO FOR RENT - KITCHENER | DUKE ST E', '1,745.00', '', 'Kitchener / Waterloo 30/12/2022', '1 BED+DEN | 1 BATH - CONDO FOR RENT - KITCHENER | DUKE ST E'], ['1 BED+DEN | 1 BATH - CONDO FOR RENT - KITCHENER | FREDERICK ST', '1,845.00', '', 'Kitchener / Waterloo 30/12/2022', '1 BED+DEN | 1 BATH - CONDO FOR RENT - KITCHENER | FREDERICK ST'], ['1+DEN BED | 2 BATH - CONDOMINIUM FOR RENT - KITCHENER', '1,945.00', '', 'Kitchener / Waterloo 30/12/2022', '1+DEN BED | 2 BATH - CONDOMINIUM FOR RENT - KITCHENER'], ['Condo ORA II - Jardins McConnell *PROMOTION DISPONIBLE*', '1,820.00', '', 'Gatineau 30/12/2022', 'Condo ORA II - Jardins McConnell *PROMOTION DISPONIBLE*'], ['2550 Simcoe St UC Tower Condo For Rent', '1,900.00', '', 'Oshawa / Durham Region 29/12/2022', '2550 Simcoe St UC Tower Condo For Rent'], ['Rental-Limoges-Condo', '1,575.00', '', 'Ottawa 29/12/2022', 'Rental-Limoges-Condo'], ['Newer (2020) 2Bdm/1.5Bth Terrace Home, Orleans, Balcony, Pkg', '1,850.00', '', 'Ottawa 29/12/2022', 'Newer (2020) 2Bdm/1.5Bth Terrace Home, Orleans, Balcony, Pkg'], ['2 bed, 1.5 bath LOW-RISE CONDO for RENT!', '1,900.00', '', 'Ottawa 29/12/2022', '2 bed, 1.5 bath LOW-RISE CONDO for RENT!'], ['PORTAGE - CONDO LUXUEUX 2 CHAMBRES - LUXURY CONDO 2 BEDROOMS', '1,540.00', '', 'Gatineau 29/12/2022', 'PORTAGE - CONDO LUXUEUX 2 CHAMBRES - LUXURY CONDO 2 BEDROOMS'], ['Secteur Aylmer condo meublé fournis fully furnished', '1,825.00', '', 'Gatineau 29/12/2022', 'Secteur Aylmer condo meublé fournis fully furnished'], ['DISPONIBLE MAINTENANT- BEAU CONDO 2CHAMBRES POUR 1500$/MOIS', '1,500.00', '', 'Gatineau 29/12/2022', 'DISPONIBLE MAINTENANT- BEAU CONDO 2CHAMBRES POUR 1500$/MOIS'], ['FOR LEASE Vaughan and Toronto', '1,900.00', '', 'Markham / York Region 29/12/2022', 'FOR LEASE Vaughan and Toronto'], ['Furnished Condo for Rent in Downtown Toronto', '1,500.00', '', 'City of Toronto 28/12/2022', 'Furnished Condo for Rent in Downtown Toronto'], ['2 Bedroom, 1 Bath. Ground floor. Parking. Available Jan 15.', '1,500.00', '', 'London 28/12/2022', '2 Bedroom, 1 Bath. Ground floor. Parking. Available Jan 15.'], ['Vernon Views Legacy Lane Condo for Rent', '1,800.00', '', 'Muskoka 28/12/2022', 'Vernon Views Legacy Lane Condo for Rent'], ['BRAND NEW 1 Bedroom + Den Condo in Central Downtown Kitchener!', '1,995.00', '', 'Kitchener / Waterloo 28/12/2022', 'BRAND NEW 1 Bedroom + Den Condo in Central Downtown Kitchener!'], ['BRAND NEW 1 Bedroom + Den Condo in Central Downtown Kitchener!', '1,995.00', '', 'Kitchener / Waterloo 28/12/2022', 'BRAND NEW 1 Bedroom + Den Condo in Central Downtown Kitchener!'], ['NEW 1 BEDROOM + DEN CONDO IN DOWNTOWN BRANTFORD WITH PARKING', '1,700.00', '', 'Brantford 28/12/2022', 'NEW 1 BEDROOM + DEN CONDO IN DOWNTOWN BRANTFORD WITH PARKING'], ['Comfortable 2 Bedroom in downtown Hamilton', '1,750.00', '', 'Hamilton 28/12/2022', 'Comfortable 2 Bedroom in downtown Hamilton'], ['1 Bedroom+DEN- All inclusive- January Half Price!!', '1,142.00', '', 'Ottawa 28/12/2022', '1 Bedroom+DEN- All inclusive- January Half Price!!'], ['1 Bedroom+DEN- All inclusive- January Half Price!!', '1,142.00', '', 'Ottawa 28/12/2022', '1 Bedroom+DEN- All inclusive- January Half Price!!'], ['1 Bedroom+DEN- All inclusive- January Half Price!!', '1,142.00', '', 'Ottawa 28/12/2022', '1 Bedroom+DEN- All inclusive- January Half Price!!'], ['1 Bedroom Condo W/ Den in Downtown Toronto', '2,000.00', '', 'Toronto < 5 hours ago', '1 Bedroom Condo W/ Den in Downtown Toronto'], ['Condo Apartment For Rent In Beamsville Utopia', '1,800.00', '', 'Lincoln < 8 hours ago', 'Condo Apartment For Rent In Beamsville Utopia'], ['Condo Apartment For Rent In Beamsville Utopia', '1,800.00', '', 'Lincoln < 8 hours ago', 'Condo Apartment For Rent In Beamsville Utopia'], ['695 Richmond - 2 Bedrooms For Rent', '1,575.00', '', 'London < 11 hours ago', '695 Richmond - 2 Bedrooms For Rent'], ['1BR + den condo Kitchener (brand new)', '1,850.00', '', 'Kitchener < 11 hours ago', '1BR + den condo Kitchener (brand new)'], ['Lakefront condo for rent', '1,600.00', '', 'Kenora < 12 hours ago', 'Lakefront condo for rent'], ['Renovated one bedroom plus den condo beside Experimental Farm', '1,700.00', '', 'Ottawa < 13 hours ago', 'Renovated one bedroom plus den condo beside Experimental Farm'], ['Two Bed Two washroom brand new condo for lease( Windsor)', '2,000.00', '', 'Windsor < 18 hours ago', 'Two Bed Two washroom brand new condo for lease( Windsor)'], ['2 Bedroom Condo for Rental ~ Plateau Gatineau', '1,655.00', '', 'Gatineau 31/12/2022', '2 Bedroom Condo for Rental ~ Plateau Gatineau'], ['17 Eldon Hall 2Bed Apt', '1,850.00', '', 'Kingston 31/12/2022', '17 Eldon Hall 2Bed Apt'], ['2 BR Condo with Panoramic view of Ottawa River', '1,499.00', '', 'Gatineau 31/12/2022', '2 BR Condo with Panoramic view of Ottawa River'], ['1 bedroom +den fully renovated condo for with a walkout patio', '1,550.00', '', 'St. Catharines 31/12/2022', '1 bedroom +den fully renovated condo for with a walkout patio'], ['2 Bed condo for rent . Amazing location !! 705 791 9877', '1,875.00', '', 'Barrie 31/12/2022', '2 Bed condo for rent . Amazing location !! 705 791 9877'], ['Brantford - 1bed + den, 1 bath BRAND NEW!', '1,850.00', '', 'Brantford 31/12/2022', 'Brantford - 1bed + den, 1 bath BRAND NEW!'], ['2Br Condo For Rent', '1,900.00', '', 'Hamilton 30/12/2022', '2Br Condo For Rent'], ['1 bdr sublet(Feb-Apr) or Lease assignment +1 month free', '1,780.00', '', 'Gatineau 30/12/2022', '1 bdr sublet(Feb-Apr) or Lease assignment +1 month free'], ['Penthouse 1 Bedroom Condo for rent in South End Guelph', '2,000.00', '', 'Guelph 30/12/2022', 'Penthouse 1 Bedroom Condo for rent in South End Guelph'], ['SMART Never lived in One bedroom + Den Down town Kitchener', '1,870.00', '', 'Kitchener / Waterloo 30/12/2022', 'SMART Never lived in One bedroom + Den Down town Kitchener'], ['For Rent: 2 bed 1 bath Condo located in Findlay Creek', '2,000.00', '', 'Ottawa 30/12/2022', 'For Rent: 2 bed 1 bath Condo located in Findlay Creek'], ['UP TOWN WATERLOO', '1,800.00', '', 'Kitchener / Waterloo 30/12/2022', 'UP TOWN WATERLOO'], ['1 BED+DEN | 1 BATH - CONDO FOR RENT - KITCHENER | DUKE ST E', '1,745.00', '', 'Kitchener / Waterloo 30/12/2022', '1 BED+DEN | 1 BATH - CONDO FOR RENT - KITCHENER | DUKE ST E'], ['1 BED+DEN | 1 BATH - CONDO FOR RENT - KITCHENER | FREDERICK ST', '1,845.00', '', 'Kitchener / Waterloo 30/12/2022', '1 BED+DEN | 1 BATH - CONDO FOR RENT - KITCHENER | FREDERICK ST'], ['1+DEN BED | 2 BATH - CONDOMINIUM FOR RENT - KITCHENER', '1,945.00', '', 'Kitchener / Waterloo 30/12/2022', '1+DEN BED | 2 BATH - CONDOMINIUM FOR RENT - KITCHENER'], ['Condo ORA II - Jardins McConnell *PROMOTION DISPONIBLE*', '1,820.00', '', 'Gatineau 30/12/2022', 'Condo ORA II - Jardins McConnell *PROMOTION DISPONIBLE*'], ['2550 Simcoe St UC Tower Condo For Rent', '1,900.00', '', 'Oshawa / Durham Region 29/12/2022', '2550 Simcoe St UC Tower Condo For Rent'], ['Rental-Limoges-Condo', '1,575.00', '', 'Ottawa 29/12/2022', 'Rental-Limoges-Condo'], ['Newer (2020) 2Bdm/1.5Bth Terrace Home, Orleans, Balcony, Pkg', '1,850.00', '', 'Ottawa 29/12/2022', 'Newer (2020) 2Bdm/1.5Bth Terrace Home, Orleans, Balcony, Pkg'], ['2 bed, 1.5 bath LOW-RISE CONDO for RENT!', '1,900.00', '', 'Ottawa 29/12/2022', '2 bed, 1.5 bath LOW-RISE CONDO for RENT!'], ['PORTAGE - CONDO LUXUEUX 2 CHAMBRES - LUXURY CONDO 2 BEDROOMS', '1,540.00', '', 'Gatineau 29/12/2022', 'PORTAGE - CONDO LUXUEUX 2 CHAMBRES - LUXURY CONDO 2 BEDROOMS'], ['Secteur Aylmer condo meublé fournis fully furnished', '1,825.00', '', 'Gatineau 29/12/2022', 'Secteur Aylmer condo meublé fournis fully furnished'], ['DISPONIBLE MAINTENANT- BEAU CONDO 2CHAMBRES POUR 1500$/MOIS', '1,500.00', '', 'Gatineau 29/12/2022', 'DISPONIBLE MAINTENANT- BEAU CONDO 2CHAMBRES POUR 1500$/MOIS'], ['FOR LEASE Vaughan and Toronto', '1,900.00', '', 'Markham / York Region 29/12/2022', 'FOR LEASE Vaughan and Toronto'], ['Furnished Condo for Rent in Downtown Toronto', '1,500.00', '', 'City of Toronto 28/12/2022', 'Furnished Condo for Rent in Downtown Toronto'], ['2 Bedroom, 1 Bath. Ground floor. Parking. Available Jan 15.', '1,500.00', '', 'London 28/12/2022', '2 Bedroom, 1 Bath. Ground floor. Parking. Available Jan 15.'], ['Vernon Views Legacy Lane Condo for Rent', '1,800.00', '', 'Muskoka 28/12/2022', 'Vernon Views Legacy Lane Condo for Rent'], ['BRAND NEW 1 Bedroom + Den Condo in Central Downtown Kitchener!', '1,995.00', '', 'Kitchener / Waterloo 28/12/2022', 'BRAND NEW 1 Bedroom + Den Condo in Central Downtown Kitchener!'], ['BRAND NEW 1 Bedroom + Den Condo in Central Downtown Kitchener!', '1,995.00', '', 'Kitchener / Waterloo 28/12/2022', 'BRAND NEW 1 Bedroom + Den Condo in Central Downtown Kitchener!'], ['NEW 1 BEDROOM + DEN CONDO IN DOWNTOWN BRANTFORD WITH PARKING', '1,700.00', '', 'Brantford 28/12/2022', 'NEW 1 BEDROOM + DEN CONDO IN DOWNTOWN BRANTFORD WITH PARKING'], ['Comfortable 2 Bedroom in downtown Hamilton', '1,750.00', '', 'Hamilton 28/12/2022', 'Comfortable 2 Bedroom in downtown Hamilton'], ['1 Bedroom+DEN- All inclusive- January Half Price!!', '1,142.00', '', 'Ottawa 28/12/2022', '1 Bedroom+DEN- All inclusive- January Half Price!!'], ['1 Bedroom Condo W/ Den in Downtown Toronto', '2,000.00', '', 'Toronto < 5 hours ago', '1 Bedroom Condo W/ Den in Downtown Toronto'], ['Condo Apartment For Rent In Beamsville Utopia', '1,800.00', '', 'Lincoln < 8 hours ago', 'Condo Apartment For Rent In Beamsville Utopia'], ['Condo Apartment For Rent In Beamsville Utopia', '1,800.00', '', 'Lincoln < 8 hours ago', 'Condo Apartment For Rent In Beamsville Utopia'], ['695 Richmond - 2 Bedrooms For Rent', '1,575.00', '', 'London < 11 hours ago', '695 Richmond - 2 Bedrooms For Rent'], ['1BR + den condo Kitchener (brand new)', '1,850.00', '', 'Kitchener < 11 hours ago', '1BR + den condo Kitchener (brand new)'], ['Lakefront condo for rent', '1,600.00', '', 'Kenora < 12 hours ago', 'Lakefront condo for rent'], ['Renovated one bedroom plus den condo beside Experimental Farm', '1,700.00', '', 'Ottawa < 13 hours ago', 'Renovated one bedroom plus den condo beside Experimental Farm'], ['Two Bed Two washroom brand new condo for lease( Windsor)', '2,000.00', '', 'Windsor < 18 hours ago', 'Two Bed Two washroom brand new condo for lease( Windsor)'], ['2 Bedroom Condo for Rental ~ Plateau Gatineau', '1,655.00', '', 'Gatineau 31/12/2022', '2 Bedroom Condo for Rental ~ Plateau Gatineau'], ['17 Eldon Hall 2Bed Apt', '1,850.00', '', 'Kingston 31/12/2022', '17 Eldon Hall 2Bed Apt'], ['2 BR Condo with Panoramic view of Ottawa River', '1,499.00', '', 'Gatineau 31/12/2022', '2 BR Condo with Panoramic view of Ottawa River'], ['1 bedroom +den fully renovated condo for with a walkout patio', '1,550.00', '', 'St. Catharines 31/12/2022', '1 bedroom +den fully renovated condo for with a walkout patio'], ['2 Bed condo for rent . Amazing location !! 705 791 9877', '1,875.00', '', 'Barrie 31/12/2022', '2 Bed condo for rent . Amazing location !! 705 791 9877'], ['Brantford - 1bed + den, 1 bath BRAND NEW!', '1,850.00', '', 'Brantford 31/12/2022', 'Brantford - 1bed + den, 1 bath BRAND NEW!'], ['2Br Condo For Rent', '1,900.00', '', 'Hamilton 30/12/2022', '2Br Condo For Rent'], ['1 bdr sublet(Feb-Apr) or Lease assignment +1 month free', '1,780.00', '', 'Gatineau 30/12/2022', '1 bdr sublet(Feb-Apr) or Lease assignment +1 month free'], ['Penthouse 1 Bedroom Condo for rent in South End Guelph', '2,000.00', '', 'Guelph 30/12/2022', 'Penthouse 1 Bedroom Condo for rent in South End Guelph'], ['SMART Never lived in One bedroom + Den Down town Kitchener', '1,870.00', '', 'Kitchener / Waterloo 30/12/2022', 'SMART Never lived in One bedroom + Den Down town Kitchener'], ['For Rent: 2 bed 1 bath Condo located in Findlay Creek', '2,000.00', '', 'Ottawa 30/12/2022', 'For Rent: 2 bed 1 bath Condo located in Findlay Creek'], ['UP TOWN WATERLOO', '1,800.00', '', 'Kitchener / Waterloo 30/12/2022', 'UP TOWN WATERLOO'], ['1 BED+DEN | 1 BATH - CONDO FOR RENT - KITCHENER | DUKE ST E', '1,745.00', '', 'Kitchener / Waterloo 30/12/2022', '1 BED+DEN | 1 BATH - CONDO FOR RENT - KITCHENER | DUKE ST E'], ['1 BED+DEN | 1 BATH - CONDO FOR RENT - KITCHENER | FREDERICK ST', '1,845.00', '', 'Kitchener / Waterloo 30/12/2022', '1 BED+DEN | 1 BATH - CONDO FOR RENT - KITCHENER | FREDERICK ST'], ['1+DEN BED | 2 BATH - CONDOMINIUM FOR RENT - KITCHENER', '1,945.00', '', 'Kitchener / Waterloo 30/12/2022', '1+DEN BED | 2 BATH - CONDOMINIUM FOR RENT - KITCHENER'], ['Condo ORA II - Jardins McConnell *PROMOTION DISPONIBLE*', '1,820.00', '', 'Gatineau 30/12/2022', 'Condo ORA II - Jardins McConnell *PROMOTION DISPONIBLE*'], ['2550 Simcoe St UC Tower Condo For Rent', '1,900.00', '', 'Oshawa / Durham Region 29/12/2022', '2550 Simcoe St UC Tower Condo For Rent'], ['Rental-Limoges-Condo', '1,575.00', '', 'Ottawa 29/12/2022', 'Rental-Limoges-Condo'], ['Newer (2020) 2Bdm/1.5Bth Terrace Home, Orleans, Balcony, Pkg', '1,850.00', '', 'Ottawa 29/12/2022', 'Newer (2020) 2Bdm/1.5Bth Terrace Home, Orleans, Balcony, Pkg'], ['2 bed, 1.5 bath LOW-RISE CONDO for RENT!', '1,900.00', '', 'Ottawa 29/12/2022', '2 bed, 1.5 bath LOW-RISE CONDO for RENT!'], ['PORTAGE - CONDO LUXUEUX 2 CHAMBRES - LUXURY CONDO 2 BEDROOMS', '1,540.00', '', 'Gatineau 29/12/2022', 'PORTAGE - CONDO LUXUEUX 2 CHAMBRES - LUXURY CONDO 2 BEDROOMS'], ['Secteur Aylmer condo meublé fournis fully furnished', '1,825.00', '', 'Gatineau 29/12/2022', 'Secteur Aylmer condo meublé fournis fully furnished'], ['DISPONIBLE MAINTENANT- BEAU CONDO 2CHAMBRES POUR 1500$/MOIS', '1,500.00', '', 'Gatineau 29/12/2022', 'DISPONIBLE MAINTENANT- BEAU CONDO 2CHAMBRES POUR 1500$/MOIS'], ['FOR LEASE Vaughan and Toronto', '1,900.00', '', 'Markham / York Region 29/12/2022', 'FOR LEASE Vaughan and Toronto'], ['Furnished Condo for Rent in Downtown Toronto', '1,500.00', '', 'City of Toronto 28/12/2022', 'Furnished Condo for Rent in Downtown Toronto'], ['2 Bedroom, 1 Bath. Ground floor. Parking. Available Jan 15.', '1,500.00', '', 'London 28/12/2022', '2 Bedroom, 1 Bath. Ground floor. Parking. Available Jan 15.'], ['Vernon Views Legacy Lane Condo for Rent', '1,800.00', '', 'Muskoka 28/12/2022', 'Vernon Views Legacy Lane Condo for Rent'], ['BRAND NEW 1 Bedroom + Den Condo in Central Downtown Kitchener!', '1,995.00', '', 'Kitchener / Waterloo 28/12/2022', 'BRAND NEW 1 Bedroom + Den Condo in Central Downtown Kitchener!'], ['BRAND NEW 1 Bedroom + Den Condo in Central Downtown Kitchener!', '1,995.00', '', 'Kitchener / Waterloo 28/12/2022', 'BRAND NEW 1 Bedroom + Den Condo in Central Downtown Kitchener!'], ['NEW 1 BEDROOM + DEN CONDO IN DOWNTOWN BRANTFORD WITH PARKING', '1,700.00', '', 'Brantford 28/12/2022', 'NEW 1 BEDROOM + DEN CONDO IN DOWNTOWN BRANTFORD WITH PARKING'], ['Comfortable 2 Bedroom in downtown Hamilton', '1,750.00', '', 'Hamilton 28/12/2022', 'Comfortable 2 Bedroom in downtown Hamilton'], ['1 Bedroom+DEN- All inclusive- January Half Price!!', '1,142.00', '', 'Ottawa 28/12/2022', '1 Bedroom+DEN- All inclusive- January Half Price!!']] \n",
      "\n"
     ]
    }
   ],
   "source": [
    "#On veut extraire le nom (titre), le prix de chaque maison\n",
    "#On retourne sur le site, on l'inspecte pour repérer les tags uniques utilisés pour écrire chaque titre, prix\n",
    "for i in houses:\n",
    "    house_name = i.find ('div', {'class':'title'}).get_text()\n",
    "    house_price =  i.find ('div', {'class': 'price'}).get_text()\n",
    "    house_bed = i.find ('div', {'class': 'details'}).get_text()\n",
    "    house_location = i.find ('div', {'class': 'location'}).get_text()\n",
    "    house_description = i.find ('div', {'class': 'description'}).get_text()\n",
    "\n",
    "# En appliquant print (i), on obtient le code html de la page mais avec bcp de coquille. Il faut donc le formater\n",
    "#.strip() nettoie les espaces en début et fin de chaine de caractère; chaine = \"    Bonjour la famille !   \" --> chaine.strip() = 'Bonjour la famille !'\n",
    "#.split() découpe une chaine de caractères en +sieurs élts appelés champs et les met dans une liste; exple: animaux = \"girafe lion singe\" --> animaux.split() = ['girafe', 'lion', 'singe']\n",
    "#.replace() remplace un mot, espace, tabulation (\\t) ou retour à la ligne (\\n) par un autre de ces élts au choix\n",
    "#exple : texte.replace('\\n', '') va supprimmer les retours à la ligne d'un texte donné et les remplacer par rien \n",
    "#.join() converti une liste de chaines de caractères en chaine de caractères; soit seq = ['a', 'b', 'c']\n",
    "#'-'.join(seq) --> 'a-b-c'; ' '.join(seq) --> 'a b c'; ''.join(seq) --> 'abc'\n",
    "\n",
    "    format_housename = ' '.join(house_name.strip().replace('\\n', '').split())\n",
    "    format_houseprice = ' '.join(house_price.strip().replace('$', '').split())\n",
    "    format_housebed = ' '.join(house_bed.strip().replace('\\n', '').split())\n",
    "    format_houselocation = ' '.join(house_location.strip().replace('\\n', '').split())\n",
    "    format_housedescription = ' '.join(house_name.strip().replace('\\n', '').split())\n",
    "\n",
    "#print des données formatées\n",
    "    house_record = [format_housename, format_houseprice, format_housebed, format_houselocation, format_housedescription]\n",
    "    housedatas_Format.append(house_record)\n",
    "\n",
    "print(housedatas_Format, '\\n')"
   ]
  },
  {
   "cell_type": "code",
   "execution_count": 27,
   "id": "81ef60f5",
   "metadata": {
    "scrolled": true
   },
   "outputs": [
    {
     "name": "stdout",
     "output_type": "stream",
     "text": [
      "                                            House Name House Price House Bed  \\\n",
      "0    1 Bedroom+DEN- All inclusive- January Half Pri...    1,142.00             \n",
      "1    1 Bedroom+DEN- All inclusive- January Half Pri...    1,142.00             \n",
      "2           1 Bedroom Condo W/ Den in Downtown Toronto    2,000.00             \n",
      "3        Condo Apartment For Rent In Beamsville Utopia    1,800.00             \n",
      "4        Condo Apartment For Rent In Beamsville Utopia    1,800.00             \n",
      "..                                                 ...         ...       ...   \n",
      "119  BRAND NEW 1 Bedroom + Den Condo in Central Dow...    1,995.00             \n",
      "120  BRAND NEW 1 Bedroom + Den Condo in Central Dow...    1,995.00             \n",
      "121  NEW 1 BEDROOM + DEN CONDO IN DOWNTOWN BRANTFOR...    1,700.00             \n",
      "122         Comfortable 2 Bedroom in downtown Hamilton    1,750.00             \n",
      "123  1 Bedroom+DEN- All inclusive- January Half Pri...    1,142.00             \n",
      "\n",
      "                      House Location  \\\n",
      "0                  Ottawa 28/12/2022   \n",
      "1                  Ottawa 28/12/2022   \n",
      "2              Toronto < 5 hours ago   \n",
      "3              Lincoln < 8 hours ago   \n",
      "4              Lincoln < 8 hours ago   \n",
      "..                               ...   \n",
      "119  Kitchener / Waterloo 28/12/2022   \n",
      "120  Kitchener / Waterloo 28/12/2022   \n",
      "121             Brantford 28/12/2022   \n",
      "122              Hamilton 28/12/2022   \n",
      "123                Ottawa 28/12/2022   \n",
      "\n",
      "                                     House Description  \n",
      "0    1 Bedroom+DEN- All inclusive- January Half Pri...  \n",
      "1    1 Bedroom+DEN- All inclusive- January Half Pri...  \n",
      "2           1 Bedroom Condo W/ Den in Downtown Toronto  \n",
      "3        Condo Apartment For Rent In Beamsville Utopia  \n",
      "4        Condo Apartment For Rent In Beamsville Utopia  \n",
      "..                                                 ...  \n",
      "119  BRAND NEW 1 Bedroom + Den Condo in Central Dow...  \n",
      "120  BRAND NEW 1 Bedroom + Den Condo in Central Dow...  \n",
      "121  NEW 1 BEDROOM + DEN CONDO IN DOWNTOWN BRANTFOR...  \n",
      "122         Comfortable 2 Bedroom in downtown Hamilton  \n",
      "123  1 Bedroom+DEN- All inclusive- January Half Pri...  \n",
      "\n",
      "[124 rows x 5 columns]\n"
     ]
    }
   ],
   "source": [
    "#On enregistre les données dans un dataframe pandas\n",
    "num += 1\n",
    "\n",
    "page_num = str(num)\n",
    "\n",
    "df = pd.DataFrame (housedatas_Format, columns=['House Name', 'House Price', 'House Bed', 'House Location', 'House Description'])\n",
    "print(df)"
   ]
  },
  {
   "cell_type": "code",
   "execution_count": 28,
   "id": "109569d5",
   "metadata": {},
   "outputs": [],
   "source": [
    "# On enregistre maintenant le df comme csv\n",
    "df.to_csv('houseinCanada_2k.csv')"
   ]
  },
  {
   "cell_type": "code",
   "execution_count": null,
   "id": "46c931b1",
   "metadata": {},
   "outputs": [],
   "source": []
  }
 ],
 "metadata": {
  "kernelspec": {
   "display_name": "Python 3",
   "language": "python",
   "name": "python3"
  },
  "language_info": {
   "codemirror_mode": {
    "name": "ipython",
    "version": 3
   },
   "file_extension": ".py",
   "mimetype": "text/x-python",
   "name": "python",
   "nbconvert_exporter": "python",
   "pygments_lexer": "ipython3",
   "version": "3.8.3 (tags/v3.8.3:6f8c832, May 13 2020, 22:37:02) [MSC v.1924 64 bit (AMD64)]"
  },
  "vscode": {
   "interpreter": {
    "hash": "570feb405e2e27c949193ac68f46852414290d515b0ba6e5d90d076ed2284471"
   }
  }
 },
 "nbformat": 4,
 "nbformat_minor": 5
}
